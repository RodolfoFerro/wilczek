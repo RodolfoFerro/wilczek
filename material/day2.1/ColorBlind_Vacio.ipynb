{
 "cells": [
  {
   "cell_type": "markdown",
   "metadata": {},
   "source": [
    "En este ejercio en Python, vamos a manipular una imagen para ver cómo ven los colores la gente daltónica.\n",
    "<br><br>\n",
    "Veremos que las personas daltónicas ven un espacio de color de dos dimensiones. \n",
    "<br><br>\n",
    "Después vamos a usar la técnica de \"Codificación Temporal\" para agregar información sobre un canal adicional, permitiendo que las personas daltónicas tengan la misma información de color que alguien con tres receptores de color visuales. "
   ]
  },
  {
   "cell_type": "markdown",
   "metadata": {},
   "source": [
    "# Importar módulos/librerías:"
   ]
  },
  {
   "cell_type": "code",
   "execution_count": 1,
   "metadata": {
    "collapsed": false
   },
   "outputs": [
    {
     "ename": "ImportError",
     "evalue": "No module named 'imageio'",
     "output_type": "error",
     "traceback": [
      "\u001b[0;31m---------------------------------------------------------------------------\u001b[0m",
      "\u001b[0;31mImportError\u001b[0m                               Traceback (most recent call last)",
      "\u001b[0;32m<ipython-input-1-317ff9ac1c47>\u001b[0m in \u001b[0;36m<module>\u001b[0;34m()\u001b[0m\n\u001b[1;32m      1\u001b[0m \u001b[0;32mimport\u001b[0m \u001b[0mmatplotlib\u001b[0m\u001b[0;34m.\u001b[0m\u001b[0mpyplot\u001b[0m \u001b[0;32mas\u001b[0m \u001b[0mplt\u001b[0m\u001b[0;34m\u001b[0m\u001b[0m\n\u001b[1;32m      2\u001b[0m \u001b[0;32mimport\u001b[0m \u001b[0mmatplotlib\u001b[0m\u001b[0;34m.\u001b[0m\u001b[0mimage\u001b[0m \u001b[0;32mas\u001b[0m \u001b[0mmpimg\u001b[0m\u001b[0;34m\u001b[0m\u001b[0m\n\u001b[0;32m----> 3\u001b[0;31m \u001b[0;32mimport\u001b[0m \u001b[0mimageio\u001b[0m\u001b[0;34m\u001b[0m\u001b[0m\n\u001b[0m\u001b[1;32m      4\u001b[0m \u001b[0;32mimport\u001b[0m \u001b[0mos\u001b[0m\u001b[0;34m\u001b[0m\u001b[0m\n\u001b[1;32m      5\u001b[0m \u001b[0;32mimport\u001b[0m \u001b[0mpylab\u001b[0m\u001b[0;34m\u001b[0m\u001b[0m\n",
      "\u001b[0;31mImportError\u001b[0m: No module named 'imageio'"
     ]
    }
   ],
   "source": [
    "import matplotlib.pyplot as plt\n",
    "import matplotlib.image as mpimg\n",
    "import imageio\n",
    "import os\n",
    "import pylab\n",
    "#Importa el modulo numpy, llamándolo \"np\"\n",
    "##################\n",
    "\n",
    "##################\n",
    "%pylab inline"
   ]
  },
  {
   "cell_type": "markdown",
   "metadata": {},
   "source": [
    "# Definir funciones: "
   ]
  },
  {
   "cell_type": "markdown",
   "metadata": {},
   "source": [
    "Esta función genera una película en formato .gif a partir de una serie de imágenes en formato .png"
   ]
  },
  {
   "cell_type": "code",
   "execution_count": null,
   "metadata": {
    "collapsed": true
   },
   "outputs": [],
   "source": [
    "def makemovie(n, movie_name = 'movie.gif'):\n",
    "    images = []\n",
    "    filenames = []\n",
    "    for i in range(n):\n",
    "        filenames.append(\"frame\"+str(i)+\".png\")\n",
    "    for filename in filenames:\n",
    "        images.append(imageio.imread(filename))\n",
    "    imageio.mimsave(movie_name, images)\n",
    "    "
   ]
  },
  {
   "cell_type": "markdown",
   "metadata": {},
   "source": [
    "Esta funciona muestra una imagen de manera \"bonita\""
   ]
  },
  {
   "cell_type": "code",
   "execution_count": null,
   "metadata": {
    "collapsed": true
   },
   "outputs": [],
   "source": [
    "def visualizar_imagen(imagen):\n",
    "    fig = plt.figure(figsize=(7,7))\n",
    "    ax = fig.add_subplot(111)\n",
    "    ax.imshow(imagen, interpolation=\"gaussian\")\n",
    "    ax.set_axis_bgcolor('k')\n",
    "    ax.get_xaxis().set_visible(False)\n",
    "    ax.get_yaxis().set_visible(False)"
   ]
  },
  {
   "cell_type": "markdown",
   "metadata": {},
   "source": [
    "# Primero, vamos a visualizar una imagen de una \"Prueba de Color de Ishihara\", una de las pruebas principales para ver si una persona es daltónica o no. "
   ]
  },
  {
   "cell_type": "code",
   "execution_count": null,
   "metadata": {
    "collapsed": false
   },
   "outputs": [],
   "source": [
    "img=mpimg.imread('cb_2.png')\n",
    "\n",
    "#Usa la función \"visualizar_imagen\" para ver cómo se ve esta imagen. \n",
    "#################\n",
    "\n",
    "#################"
   ]
  },
  {
   "cell_type": "markdown",
   "metadata": {},
   "source": [
    "### Puedes ver qué número está \"escondido\" dentro de la imagen? \n",
    "\n",
    "Si no lo puedes ver, ¡Felicidades! Eres daltónic@ (aunque probablemente ya los sabías...)"
   ]
  },
  {
   "cell_type": "markdown",
   "metadata": {},
   "source": [
    "# Simulación del daltonismo: "
   ]
  },
  {
   "cell_type": "markdown",
   "metadata": {},
   "source": [
    "Para los que no somos daltónicos, vamos a hacer una transformación de la imagen de arriba para que se vea \"como la vería\" una persona daltónica. "
   ]
  },
  {
   "cell_type": "markdown",
   "metadata": {},
   "source": [
    "#### Primero, vamos a hacer una copia de la imagen"
   ]
  },
  {
   "cell_type": "code",
   "execution_count": null,
   "metadata": {
    "collapsed": false
   },
   "outputs": [],
   "source": [
    "#Haz una copia de la imagen #img, guardandola en la variable #img_daltonico\n",
    "###############\n",
    "\n",
    "################"
   ]
  },
  {
   "cell_type": "markdown",
   "metadata": {},
   "source": [
    "Vamos a simular la percepción de una persona daltónica en el canal rojo-verde. Como su nombre lo indica, este tipo de daltonismo no percibe diferencias entre el color rojo y el verde. \n",
    "<br><br>\n",
    "#### Para simular este tipo de percepción, vamos a sustituir el canal rojo de la copia de la imagen con el **promedio de los canales rojo y verde** de la imagen original. Recuerda que el promedio de dos números X y Y es (X + Y) / 2"
   ]
  },
  {
   "cell_type": "code",
   "execution_count": null,
   "metadata": {
    "collapsed": true
   },
   "outputs": [],
   "source": [
    "img_daltonico[:,:,0] = (img[:,:,0] + img[:,:,1] )/ 2.0\n"
   ]
  },
  {
   "cell_type": "markdown",
   "metadata": {},
   "source": [
    "#### Y hacemos lo mismo con el canal verde: vamos a sustituir el canal verde de la copia de la imagen con el **promedio de los canales rojo y verde** de la imagen original."
   ]
  },
  {
   "cell_type": "code",
   "execution_count": null,
   "metadata": {
    "collapsed": true
   },
   "outputs": [],
   "source": [
    "#Sustituye el canal verde de img_daltonico \n",
    "#con el promedio del canal verde y el canal rojo de img\n",
    "########\n",
    "\n",
    "########"
   ]
  },
  {
   "cell_type": "markdown",
   "metadata": {},
   "source": [
    "#### Y ahora vamos a visualizar la imagen de nuevo: "
   ]
  },
  {
   "cell_type": "code",
   "execution_count": null,
   "metadata": {
    "collapsed": false
   },
   "outputs": [],
   "source": [
    "#Usa la función \"visualizar_imagen\" para ver cómo se ve esta nueva imagen, img_daltonico. \n",
    "#########\n",
    "\n",
    "#########"
   ]
  },
  {
   "cell_type": "markdown",
   "metadata": {},
   "source": [
    "#### Si no eres daltónic@, ya sabes qué es lo que se siente!!!!\n",
    "<br>\n",
    "Al hacer estas transformación, hemos reducido la **dimensión del espacio de color** de la imagen de 3 dimensiones a 2 dimensiones. \n",
    "<br> <br>\n",
    "#### Nuestra siguiente misión es recuperar la información que está en esa tercera dimensión de color (el canal verde) de alguna manera, sin explícitamente mostrar el color verde (porque estamos haciendo como si fuéramos daltónicos). "
   ]
  },
  {
   "cell_type": "markdown",
   "metadata": {},
   "source": [
    "Una forma de hacerlo es usando una condición \"if\". Si un pixel tiene un valor en la imagen original en el canal verde mayor que su valor en el canal rojo, vamos a hacer que aparezca negro (los daltónicos sí pueden ver el negro). \n",
    "\n",
    "Esta condición la satisfacen todos los pixeles que forman el número 73."
   ]
  },
  {
   "cell_type": "code",
   "execution_count": null,
   "metadata": {
    "collapsed": true
   },
   "outputs": [],
   "source": [
    "#Guarda el canal verde de img en una variable llamada \"canal_verde\"\n",
    "#Guarda el canal verde de img en una variable llamada \"canal_rojo\"\n",
    "#############\n",
    "\n",
    "\n",
    "#############"
   ]
  },
  {
   "cell_type": "markdown",
   "metadata": {},
   "source": [
    "Aqui va un ejemplo de un pixel (el 150,150), donde el valor en el canal verde **no** es mayor que el valor en el canal rojo. "
   ]
  },
  {
   "cell_type": "code",
   "execution_count": null,
   "metadata": {
    "collapsed": false
   },
   "outputs": [],
   "source": [
    "canal_verde[150,150] > canal_rojo[150,150]"
   ]
  },
  {
   "cell_type": "markdown",
   "metadata": {},
   "source": [
    "Aqui va un ejemplo de un pixel (el 51,142), donde el valor en el canal verde **si** es mayor que el valor en el canal rojo. "
   ]
  },
  {
   "cell_type": "code",
   "execution_count": null,
   "metadata": {
    "collapsed": false
   },
   "outputs": [],
   "source": [
    "canal_verde[51,142] > canal_rojo[51,142]"
   ]
  },
  {
   "cell_type": "markdown",
   "metadata": {},
   "source": [
    "Ahora, usemos un doble for-loop para iterar sobre cada pixel. Y utilizemos un \"if statement\" para cambiar a color negro todos los pixeles cuyo valor en el canal verde (en la imagen original) estén por arriba del valor del pixel en el canal rojo. "
   ]
  },
  {
   "cell_type": "code",
   "execution_count": null,
   "metadata": {
    "collapsed": true
   },
   "outputs": [],
   "source": [
    "img_copy = copy(img_daltonico)\n",
    "\n",
    "dim1 = img.shape[0]\n",
    "dim2 = img.shape[1]\n",
    "\n",
    "for ind1 in range(dim1): # iteramos sobre los indices de los renglones\n",
    "    for ind2 in range(dim2): # y, dentro de cada renglon, iteramos sobre las columnas\n",
    "        #usando un \"if statement\", convierte a rojo todos los pixeles cuyo valor en el \n",
    "        #canal verde es mayor que su valor en el canal rojo. \n",
    "        ###########################\n",
    "\n",
    "        \n",
    "        \n",
    "        \n",
    "        ###########################"
   ]
  },
  {
   "cell_type": "code",
   "execution_count": null,
   "metadata": {
    "collapsed": false
   },
   "outputs": [],
   "source": [
    "visualizar_imagen(img_copy)"
   ]
  },
  {
   "cell_type": "markdown",
   "metadata": {},
   "source": [
    "Aunque fueras daltónic@, con la imagen de arriba ya sabes qué número está escondido!!!"
   ]
  },
  {
   "cell_type": "markdown",
   "metadata": {},
   "source": [
    "Una forma de hacer el efecto más sutil, es solo cambiar a color negro el pixel si se satisface la condición y si la computadora genera un número aleatorio menor a 0.3 (o el valor que tú quieras entre 0 y 1).\n",
    "\n",
    "Ejecuta la celda de abajo varias veces, para ver cómo se generan número aleatorios entre 0 y 1"
   ]
  },
  {
   "cell_type": "code",
   "execution_count": null,
   "metadata": {
    "collapsed": false
   },
   "outputs": [],
   "source": [
    "np.random.random()"
   ]
  },
  {
   "cell_type": "markdown",
   "metadata": {},
   "source": [
    " Ahora, ejecuta la siguiente celda varias veces. A veces la condición es cierta, y a veces es falsa!"
   ]
  },
  {
   "cell_type": "code",
   "execution_count": null,
   "metadata": {
    "collapsed": false
   },
   "outputs": [],
   "source": [
    "img[51,142,1] > img[51,142,0] and np.random.random() < 0.3"
   ]
  },
  {
   "cell_type": "markdown",
   "metadata": {},
   "source": [
    "Agrega este aspecto aleatorio a la condición, para que solo algunos pixeles (aproximadamente un tercio de ellos) con verde > rojo se conviertan a negro. "
   ]
  },
  {
   "cell_type": "code",
   "execution_count": null,
   "metadata": {
    "collapsed": false
   },
   "outputs": [],
   "source": [
    "#Repite lo que hicimos arriba (puedes copiar y pegar el codigo que creas necesario)\n",
    "#Pero ahora agrega al \"if statement\" la condicion de que salga un numero aleatorio \n",
    "# menor que 0.3\n",
    "# comienza haciendo una nueva copia de la imagen \"img_daltonico\"\n",
    "\n",
    "#####################################\n",
    "\n",
    "\n",
    "\n",
    "\n",
    "\n",
    "\n",
    "\n",
    "\n",
    "\n",
    "\n",
    "#####################################"
   ]
  },
  {
   "cell_type": "markdown",
   "metadata": {},
   "source": [
    "Vamos a visualizar la nueva imagen"
   ]
  },
  {
   "cell_type": "code",
   "execution_count": null,
   "metadata": {
    "collapsed": false
   },
   "outputs": [],
   "source": [
    "visualizar_imagen(img_copy)"
   ]
  },
  {
   "cell_type": "markdown",
   "metadata": {},
   "source": [
    "Finalmente, para hacerlo todo más fresón, podemos repetir esto muchas veces (con la condición del número aleatorio) y juntar todas las imágenes en una película!"
   ]
  },
  {
   "cell_type": "code",
   "execution_count": null,
   "metadata": {
    "collapsed": false
   },
   "outputs": [],
   "source": [
    "num_frames = 20\n",
    "for n in range(num_frames): #este primer \"for loop\" itera sobre las distintas imágenes de la \n",
    "    # película\n",
    "    \n",
    "    # Repite lo que hicimos arriba, pero ahora dentro del \"loop for\"\n",
    "    # que controla las imagenes de la pelicula. \n",
    "    # Cuida la indentación de tu código!\n",
    "    ###############################\n",
    "\n",
    "\n",
    "    \n",
    "    \n",
    "    \n",
    "    \n",
    "    \n",
    "    \n",
    "                \n",
    "    ################################\n",
    "    \n",
    "    \n",
    "    visualizar_imagen(img_copy)\n",
    "    pylab.savefig(\"frame\"+str(n)+\".png\")"
   ]
  },
  {
   "cell_type": "markdown",
   "metadata": {},
   "source": [
    "Vamos a generar la imagen. "
   ]
  },
  {
   "cell_type": "code",
   "execution_count": null,
   "metadata": {
    "collapsed": true
   },
   "outputs": [],
   "source": [
    "moviename = 'daltonico.gif'\n",
    "makemovie(n,moviename)"
   ]
  },
  {
   "cell_type": "markdown",
   "metadata": {},
   "source": [
    "# Terminamos con este cuaderno!"
   ]
  },
  {
   "cell_type": "markdown",
   "metadata": {},
   "source": [
    "En resumen, lo que hicimos fue hacer una simulación de cómo ve los colores alguien con daltonismo rojo-verde. Luego usamos los datos en la imagen digital para modificar los pixeles con señal verde, y los convertimos en oscilaciones en el color negro. De esta manera, alguien que solo ve en 2-Dimensiones de color, ahora podría ver en 3-Dimensiones de color. "
   ]
  },
  {
   "cell_type": "code",
   "execution_count": null,
   "metadata": {
    "collapsed": true
   },
   "outputs": [],
   "source": []
  }
 ],
 "metadata": {
  "kernelspec": {
   "display_name": "Python [Root]",
   "language": "python",
   "name": "Python [Root]"
  },
  "language_info": {
   "codemirror_mode": {
    "name": "ipython",
    "version": 3
   },
   "file_extension": ".py",
   "mimetype": "text/x-python",
   "name": "python",
   "nbconvert_exporter": "python",
   "pygments_lexer": "ipython3",
   "version": "3.5.2"
  }
 },
 "nbformat": 4,
 "nbformat_minor": 0
}
