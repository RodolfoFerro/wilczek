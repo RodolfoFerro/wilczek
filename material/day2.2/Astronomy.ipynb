{
 "cells": [
  {
   "cell_type": "markdown",
   "metadata": {},
   "source": [
    "###  En este cuaderno vamos a hacer algo muy similar a lo que hicimos en el cuaderno sobre daltonismo. En ese cuaderno, a una imagen con 2-Dimensiones de color, le agregamos una tercera dimension con pixeles negros. \n",
    "<br>\n",
    "### Ahora, a una imagen con 3-Dimensiones de color - RGB - le vamos a agregar 2 Dimensiones extra con pixeles rojo y azul. Esto nos va a dar información de dónde hay luz Ultravioleta e Infrarojo! \n",
    "<br>\n",
    "### Usaremos una imagen de una galaxia para este ejercicio. "
   ]
  },
  {
   "cell_type": "markdown",
   "metadata": {},
   "source": [
    "# Importar módulos"
   ]
  },
  {
   "cell_type": "code",
   "execution_count": null,
   "metadata": {
    "collapsed": false
   },
   "outputs": [],
   "source": [
    "from astropy.io import fits\n",
    "import matplotlib.pyplot as plt\n",
    "import matplotlib.image as mpimg\n",
    "#http://imageio.readthedocs.io/en/latest/installation.html\n",
    "import imageio\n",
    "import os\n",
    "import pylab\n",
    "import numpy as np\n",
    "%pylab inline\n"
   ]
  },
  {
   "cell_type": "markdown",
   "metadata": {},
   "source": [
    "# Definir funciones"
   ]
  },
  {
   "cell_type": "markdown",
   "metadata": {},
   "source": [
    "Esta función genera una película en formato .gif a partir de una serie de imágenes en formato .png"
   ]
  },
  {
   "cell_type": "code",
   "execution_count": null,
   "metadata": {
    "collapsed": true
   },
   "outputs": [],
   "source": [
    "def makemovie(n, movie_name = 'movie.gif'):\n",
    "    images = []\n",
    "    filenames = []\n",
    "    for i in range(n):\n",
    "        filenames.append(\"frame\"+str(i)+\".png\")\n",
    "    for filename in filenames:\n",
    "        images.append(imageio.imread(filename))\n",
    "    imageio.mimsave(movie_name, images)"
   ]
  },
  {
   "cell_type": "markdown",
   "metadata": {},
   "source": [
    "Esta función mapea los pixeles de una imagen al intervalo [0,1] usando una transformación lineal.  "
   ]
  },
  {
   "cell_type": "code",
   "execution_count": null,
   "metadata": {
    "collapsed": true
   },
   "outputs": [],
   "source": [
    "def linear_map(x):\n",
    "    \"\"\"Map data linearly to [0,1] interval.\"\"\"\n",
    "    m = np.min(x)\n",
    "    M = np.max(x)\n",
    "    return (x-m)/(M-m)"
   ]
  },
  {
   "cell_type": "markdown",
   "metadata": {},
   "source": [
    "Esta funciona muestra una imagen de manera \"bonita\""
   ]
  },
  {
   "cell_type": "code",
   "execution_count": null,
   "metadata": {
    "collapsed": true
   },
   "outputs": [],
   "source": [
    "def visualizar_imagen(imagen):\n",
    "    fig = plt.figure(figsize=(7,7))\n",
    "    ax = fig.add_subplot(111)\n",
    "    ax.imshow(imagen, origin=\"lower\", interpolation=\"gaussian\")\n",
    "    ax.set_axis_bgcolor('k')\n",
    "    ax.get_xaxis().set_visible(False)\n",
    "    ax.get_yaxis().set_visible(False)"
   ]
  },
  {
   "cell_type": "markdown",
   "metadata": {},
   "source": [
    "Esta función muestra un histograma de los valores en una matriz/imagen"
   ]
  },
  {
   "cell_type": "code",
   "execution_count": null,
   "metadata": {
    "collapsed": true
   },
   "outputs": [],
   "source": [
    "def histograma_imagen(imagen):\n",
    "    tamano = 1\n",
    "    for s in imagen.shape:\n",
    "        tamano *= s\n",
    "    img_vec = np.reshape(imagen, tamano)\n",
    "    fig = plt.figure(figsize=(6,4))\n",
    "    ax = fig.add_subplot(111)\n",
    "    hist = plt.hist(img_vec, 50)\n",
    "    plt.xlabel('Valores pixeles', fontsize = 20)"
   ]
  },
  {
   "cell_type": "markdown",
   "metadata": {},
   "source": [
    "# Leer los archivos con datos en los 5 canales (RGB y Ultraviolete e Infrarojo): "
   ]
  },
  {
   "cell_type": "markdown",
   "metadata": {},
   "source": [
    "Estos datos fueron descargados de este sitio: \n",
    "\n",
    "http://skyview.gsfc.nasa.gov/current/cgi/query.pl\n",
    "\n",
    "Buscamos a la galaxia M51, y tomamos los datos SDSSdr7[g,i,r,u,z]"
   ]
  },
  {
   "cell_type": "code",
   "execution_count": null,
   "metadata": {
    "collapsed": false
   },
   "outputs": [],
   "source": [
    "# Los archivos que corresponden a R, G, y B se llaman 'i', 'r', y 'g'\n",
    "R_fits = fits.open('i.fits')\n",
    "G_fits = fits.open('r.fits')\n",
    "B_fits = fits.open('g.fits')\n",
    "\n",
    "\n",
    "#Los archivos .fits con datos UV e IR se llaman u.fits y z.fits. \n",
    "# Haz el equivalente con ellos que lo que hicimos con los tres archivos de arriba. \n",
    "# asignalos a UV_fits y IR_fits\n",
    "########\n",
    "\n",
    "\n",
    "    \n",
    "########"
   ]
  },
  {
   "cell_type": "markdown",
   "metadata": {},
   "source": [
    "Los astrónomos trabajan con una archivos que se llaman formato \"FITS\". Adentro de estos están los datos crudos de las imágenes. En las siguientes lineas, tomamos las imágenes R, G, B, UV y IR"
   ]
  },
  {
   "cell_type": "code",
   "execution_count": null,
   "metadata": {
    "collapsed": false
   },
   "outputs": [],
   "source": [
    "img_R = R_fits['PRIMARY'].data\n",
    "img_G = G_fits['PRIMARY'].data\n",
    "img_B = B_fits['PRIMARY'].data\n",
    "\n",
    "#Abre las imagenes img_UV y imv_IR\n",
    "########\n",
    "\n",
    "\n",
    "########"
   ]
  },
  {
   "cell_type": "markdown",
   "metadata": {},
   "source": [
    "## Combinamos R, G, y B en una sola imagen"
   ]
  },
  {
   "cell_type": "markdown",
   "metadata": {},
   "source": [
    "Primero, averiguamos el ancho y alto de la imagen"
   ]
  },
  {
   "cell_type": "code",
   "execution_count": null,
   "metadata": {
    "collapsed": false
   },
   "outputs": [],
   "source": [
    "ancho_imagen = img_R.shape[0]\n",
    "altura_imagen = img_R.shape[1]\n",
    "\n",
    "print('ancho', ancho_imagen, 'pixeles')\n",
    "print('alto', altura_imagen, 'pixeles')"
   ]
  },
  {
   "cell_type": "code",
   "execution_count": null,
   "metadata": {
    "collapsed": false
   },
   "outputs": [],
   "source": [
    "# Ahora, generamos una matriz de 3 dimensiones llena de puros ceros. \n",
    "img_RGB = np.zeros((ancho_imagen, altura_imagen, 3))\n",
    "\n",
    "# Ahora, ponemos img_R (el rojo) la posición en img[:,:,0], y img_G (el verde) en img[:,:,1]\n",
    "img_RGB[:,:,0] = img_R\n",
    "img_RGB[:,:,1] = img_G\n",
    "\n",
    "# Pon img_B (el azul) la posición en img_RGB[:,:,2]\n",
    "\n",
    "########\n",
    "\n",
    "########"
   ]
  },
  {
   "cell_type": "markdown",
   "metadata": {},
   "source": [
    "# Cómo se ve la imagen de la galaxia ahorita?"
   ]
  },
  {
   "cell_type": "code",
   "execution_count": null,
   "metadata": {
    "collapsed": false
   },
   "outputs": [],
   "source": [
    "#Usa la funcion visualizar_imagen para visualizar a img_RGB\n",
    "################\n",
    "\n",
    "################"
   ]
  },
  {
   "cell_type": "markdown",
   "metadata": {
    "collapsed": false
   },
   "source": [
    "Por qué se ve tan rara? Vamos a ver qué valores tienen los pixeles:"
   ]
  },
  {
   "cell_type": "code",
   "execution_count": null,
   "metadata": {
    "collapsed": false
   },
   "outputs": [],
   "source": [
    "#Usa la funcion histograma_imagen para ver el histograma de valores de pixeles\n",
    "##############\n",
    "\n",
    "###############"
   ]
  },
  {
   "cell_type": "markdown",
   "metadata": {},
   "source": [
    "#### Vemos que los pixeles no van del 0 al 1, sino que tienen valores mucho más grandes (1000, 2000, etc)\n",
    "\n",
    "Una forma común en Astronomía de transformar los valores para que vayan del 0 al 1 es la siguiente: sacar el logaritmo base 10 y luego hacer un \"mapeo lineal\" de 0 a 1"
   ]
  },
  {
   "cell_type": "code",
   "execution_count": null,
   "metadata": {
    "collapsed": true
   },
   "outputs": [],
   "source": [
    "# 1. sacamos el logaritmo base 10 de los pixeles \n",
    "img_RGB_log10 = np.log10(img_RGB)\n",
    "# 2. lamamos a la función \"linear map\" \n",
    "img_RGB_01 = linear_map(img_RGB_log10)\n"
   ]
  },
  {
   "cell_type": "markdown",
   "metadata": {},
   "source": [
    "#### Verificamos los nuevos valores viendo el nuevo histograma: "
   ]
  },
  {
   "cell_type": "code",
   "execution_count": null,
   "metadata": {
    "collapsed": false
   },
   "outputs": [],
   "source": [
    "#Grafica el histograma de la nueva imagen, normalizada. \n",
    "################\n",
    "\n",
    "################"
   ]
  },
  {
   "cell_type": "markdown",
   "metadata": {},
   "source": [
    "Ahora sí van del 0 al 1 los valores de los pixeles!"
   ]
  },
  {
   "cell_type": "markdown",
   "metadata": {},
   "source": [
    "# Cómo se ve la imagen nueva?"
   ]
  },
  {
   "cell_type": "code",
   "execution_count": null,
   "metadata": {
    "collapsed": false
   },
   "outputs": [],
   "source": [
    "#Visualiza la nueva imagen.\n",
    "##################\n",
    "\n",
    "##################"
   ]
  },
  {
   "cell_type": "markdown",
   "metadata": {},
   "source": [
    "#### La imagen arriba tiene 3 canales - RGB ... \n",
    "<br>\n",
    "#### Pero lo emocionante es que tenemos información sobre 2 \"dimensiones de color\" adicionales - el ultravioleta (UV) y el infrarojo (IR) (los datos almacenados en las variables img_UV e img_IR)\n",
    "<br>\n",
    "#### Entonces, de manera similar a como le hicimos con el ejercicio para daltónicos, queremos usar *oscilaciones en el tiempo* de pixeles para codificar las 2 dimensiones extras de color. "
   ]
  },
  {
   "cell_type": "markdown",
   "metadata": {},
   "source": [
    "# Primero, vamos a transformar de la misma forma que hicimos arriba, los datos de UV e IR a un rango que vaya del 0 al 1."
   ]
  },
  {
   "cell_type": "code",
   "execution_count": null,
   "metadata": {
    "collapsed": false
   },
   "outputs": [],
   "source": [
    "# Transforma los datos Ultravioleta (img_UV) e Infrarojo (img_IR) al rango [0,1]. Primero saca\n",
    "# el logaritmo base 10 de la señal, y luego aplica el mapa lineal (lineal_map)\n",
    "# Asigna las nuevas imagenes a las variables img_UV_01, img_IR_01\n",
    "\n",
    "#################\n",
    "\n",
    "\n",
    "#################"
   ]
  },
  {
   "cell_type": "markdown",
   "metadata": {},
   "source": [
    "## Veamos el histograma de valores de estos dos canales. Esto nos va a ayudar a decidir qué umbral de intensidad utilizar para seleccionar los pixeles que oscilen en el tiempo. "
   ]
  },
  {
   "cell_type": "code",
   "execution_count": null,
   "metadata": {
    "collapsed": false
   },
   "outputs": [],
   "source": [
    "# Muestra el histograma de valores de pixeles del canal UV (transformado al rango 0 - 1)\n",
    "############# \n",
    "\n",
    "#############"
   ]
  },
  {
   "cell_type": "code",
   "execution_count": null,
   "metadata": {
    "collapsed": false
   },
   "outputs": [],
   "source": [
    "# Muestra el histograma de valores de pixeles del canal IR (transformado al rango 0 - 1)\n",
    "####### \n",
    "\n",
    "\n",
    "#######"
   ]
  },
  {
   "cell_type": "markdown",
   "metadata": {},
   "source": [
    "# En base a los histogramas de UV e IR, qué valores escogerías para los umbrales de cada uno de estos dos canales? \n",
    "<br>\n",
    "Recuerda que todos los pixeles que tengan un valor por arriba del umbral van a oscilar en el tiempo, mostrando donde hay regiones con alta señal en el canal UV o IR, respectivamente. "
   ]
  },
  {
   "cell_type": "code",
   "execution_count": null,
   "metadata": {
    "collapsed": true
   },
   "outputs": [],
   "source": [
    "# Escoge el valor para el umbral del canal UV. Puedes cambiarlo en base a lo que observes\n",
    "# en el histograma. \n",
    "umbral_UV = 0.1\n",
    "\n",
    "# Escoge el valor para el umbral del canal IR. \n",
    "umbral_IR = 0.1"
   ]
  },
  {
   "cell_type": "markdown",
   "metadata": {},
   "source": [
    "### Hagamos una primera prueba con pixeles en el canal UV que estén por arriba del umbral_UV:"
   ]
  },
  {
   "cell_type": "markdown",
   "metadata": {},
   "source": [
    "Condición -- Si un pixel en el canal UV está por arriba del umbral_UV, y un número aleatorio entre 0 y 1 es menor a 0.2, pinta ese pixel de color azul. "
   ]
  },
  {
   "cell_type": "code",
   "execution_count": null,
   "metadata": {
    "collapsed": true
   },
   "outputs": [],
   "source": [
    "#Has una copia de img_RGB_01, llamala img_prueba_UV\n",
    "#############\n",
    "\n",
    "\n",
    "#############"
   ]
  },
  {
   "cell_type": "code",
   "execution_count": null,
   "metadata": {
    "collapsed": false
   },
   "outputs": [],
   "source": [
    "for i in range(ancho_imagen):  #Este es un doble for loop ...\n",
    "    for j in range(altura_imagen): # ... que itera sobre los renglones y columnas de la matriz\n",
    "        # Utiliza un \"if statement\" para que cada vez se satisfaga la condicion \"Si un pixel en \n",
    "        # el canal UV está por arriba del umbral_UV, y un número aleatorio entre 0 y 1 es \n",
    "        # menor a 0.2, pinta ese pixel de color azul.\n",
    "        ################################\n",
    "\n",
    "        \n",
    "        \n",
    "        #################################"
   ]
  },
  {
   "cell_type": "markdown",
   "metadata": {},
   "source": [
    "Cómo se ve esta imagen de prueba?"
   ]
  },
  {
   "cell_type": "code",
   "execution_count": null,
   "metadata": {
    "collapsed": false
   },
   "outputs": [],
   "source": [
    "#Visualiza la nueva imagen, img_prueba_UV\n",
    "##################\n",
    "\n",
    "##################"
   ]
  },
  {
   "cell_type": "markdown",
   "metadata": {},
   "source": [
    "Qué pasa si cambias el valor del umbral_UV? inténtalo y vuelve a generar la imagen de prueba. \n",
    "<br><br>\n",
    "Algunos valores sugeridos: umbral_UV = 0.05 ó .15, etc. "
   ]
  },
  {
   "cell_type": "markdown",
   "metadata": {},
   "source": [
    "### Hagamos ahora una primera prueba con pixeles en el canal IR que estén por arriba del umbral_IR:"
   ]
  },
  {
   "cell_type": "markdown",
   "metadata": {},
   "source": [
    "Condición -- Si un pixel en el canal IR está por arriba del umbral_IR, y un número aleatorio entre 0 y 1 es menor a 0.2, pinta ese pixel de color rojo. "
   ]
  },
  {
   "cell_type": "code",
   "execution_count": null,
   "metadata": {
    "collapsed": true
   },
   "outputs": [],
   "source": [
    "# Haz lo mismo que hicimos arriba, ahora para el canal IR. \n",
    "###############\n",
    "\n",
    "###############"
   ]
  },
  {
   "cell_type": "code",
   "execution_count": null,
   "metadata": {
    "collapsed": true
   },
   "outputs": [],
   "source": [
    "# Haz lo mismo que hicimos arriba, ahora para el canal IR. \n",
    "\n",
    "#################\n",
    "\n",
    "\n",
    "\n",
    "################"
   ]
  },
  {
   "cell_type": "code",
   "execution_count": null,
   "metadata": {
    "collapsed": false
   },
   "outputs": [],
   "source": [
    "visualizar_imagen(img_prueba_IR)"
   ]
  },
  {
   "cell_type": "markdown",
   "metadata": {},
   "source": [
    "Qué pasa si cambias el valor del umbral_IR? inténtalo y vuelve a generar la imagen de prueba. \n",
    "<br><br>\n",
    "Algunos valores sugeridos: umbral_UV = 0.05 ó .15, etc. "
   ]
  },
  {
   "cell_type": "markdown",
   "metadata": {},
   "source": [
    "También puedes intentar cambiar el umbral del número aleatorio, para cambiar la densidad de los pixeles. "
   ]
  },
  {
   "cell_type": "markdown",
   "metadata": {},
   "source": [
    "### Ahora hagamos una prueba donde los pixeles que esten arriba de los umbrales * de los dos canales * sean de color azul o rojo respectivamente."
   ]
  },
  {
   "cell_type": "markdown",
   "metadata": {},
   "source": [
    "Junta las dos condiciones de arriba: "
   ]
  },
  {
   "cell_type": "code",
   "execution_count": null,
   "metadata": {
    "collapsed": true
   },
   "outputs": [],
   "source": [
    "img_prueba_IR_UV = img_RGB_01.copy()"
   ]
  },
  {
   "cell_type": "code",
   "execution_count": null,
   "metadata": {
    "collapsed": true
   },
   "outputs": [],
   "source": [
    "for i in range(ancho_imagen):\n",
    "    for j in range(altura_imagen):\n",
    "        if img_IR_01[i,j] > umbral_IR and np.random.random() < 0.2:\n",
    "            img_prueba_IR_UV[i,j,0] = 1\n",
    "            img_prueba_IR_UV[i,j,1] = 0\n",
    "            img_prueba_IR_UV[i,j,2] = 0\n",
    "        if img_UV_01[i,j] > umbral_UV and np.random.random() < 0.2:\n",
    "            img_prueba_IR_UV[i,j,0] = 0\n",
    "            img_prueba_IR_UV[i,j,1] = 0\n",
    "            img_prueba_IR_UV[i,j,2] = 1"
   ]
  },
  {
   "cell_type": "code",
   "execution_count": null,
   "metadata": {
    "collapsed": false
   },
   "outputs": [],
   "source": [
    "visualizar_imagen(img_prueba_IR_UV)"
   ]
  },
  {
   "cell_type": "markdown",
   "metadata": {},
   "source": [
    "# Animación: \n",
    "<br>\n",
    "# Finalmente, vamos a juntar todo lo que hemos construido hasta ahora para hacer una animación de pixeles oscilando en regiones de la imagen donde hay alta intesidad de UV o Infrarojo. "
   ]
  },
  {
   "cell_type": "code",
   "execution_count": null,
   "metadata": {
    "collapsed": true
   },
   "outputs": [],
   "source": [
    "# El número de imágenes del cual estará formada la animación. \n",
    "num_imagenes = 20"
   ]
  },
  {
   "cell_type": "code",
   "execution_count": null,
   "metadata": {
    "collapsed": false
   },
   "outputs": [],
   "source": [
    "for n in range(num_imagenes):\n",
    "    \n",
    "    # Hacemos una copia de nuestra imagen RGB, a la cual le vamos a cambiar los colores\n",
    "    # de los pixeles que estén por arriba de los umbrales UV e IR. \n",
    "    img_IR_UV = img_RGB_01.copy()\n",
    "    \n",
    "    print(n)\n",
    "    \n",
    "    # repite lo que hicimos arriba, con las condiciones de UV e IR, pero dentro del \n",
    "    # for loop que itera sobre el numero de imagenes. \n",
    "    ################################\n",
    "\n",
    "    \n",
    "                \n",
    "    #################################\n",
    "    visualizar_imagen(img_IR_UV)\n",
    "    pylab.savefig(\"frame\"+str(n)+\".png\")\n"
   ]
  },
  {
   "cell_type": "code",
   "execution_count": null,
   "metadata": {
    "collapsed": true
   },
   "outputs": [],
   "source": [
    "makemovie(n, 'pelicula_UV_IR.gif')"
   ]
  },
  {
   "cell_type": "code",
   "execution_count": null,
   "metadata": {
    "collapsed": true
   },
   "outputs": [],
   "source": [
    "![](pelicula_UV_IR.gif)"
   ]
  }
 ],
 "metadata": {
  "kernelspec": {
   "display_name": "Python 3",
   "language": "python",
   "name": "python3"
  },
  "language_info": {
   "codemirror_mode": {
    "name": "ipython",
    "version": 3
   },
   "file_extension": ".py",
   "mimetype": "text/x-python",
   "name": "python",
   "nbconvert_exporter": "python",
   "pygments_lexer": "ipython3",
   "version": "3.4.2"
  }
 },
 "nbformat": 4,
 "nbformat_minor": 0
}
