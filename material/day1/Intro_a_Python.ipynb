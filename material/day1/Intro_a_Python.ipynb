{
 "cells": [
  {
   "cell_type": "markdown",
   "metadata": {},
   "source": [
    "Bienvenidos todos!\n",
    "\n",
    "\n",
    "Una parte esencial del club va a ser la manipulación de imágenes y generación de pequeños videos. Esto lo haremos principalmente en el lenguaje de programación Python usando iPython notebooks (estos cuadernos de código). \n",
    "\n",
    "A continuación va una breve introducción sobre el uso básico de esta herramienta. \n",
    "\n",
    "# 1 Introducción a cuadernos de IPython \n",
    "![ipython logo](http://ipython.org/_static/IPy_header.png)\n",
    "![python logo](https://www.python.org/static/community_logos/python-logo-generic.svg)\n",
    "\n",
    "### ¿Qué son exactamente? \n",
    "\n",
    "Un cuaderno de iPython es un ambiente interactivo para escribir y correr codigo de Python. \n",
    "\n",
    "Es completamente auto-contenido, y puede ser convertido a varios otros formatos para compartir con amigos y colaboradores. \n",
    "\n",
    "Es particularmente popular en la comunidad de cómputo científico, ya que es una gran herramiento para análisis de datos interactivo y visualización. \n",
    "\n",
    "Puedes combinar: \n",
    "- código\n",
    "- widgets interactivos\n",
    "- gráficas\n",
    "- Texto narrativo\n",
    "- Ecuaciones\n",
    "- Imágenes\n",
    "- Video"
   ]
  },
  {
   "cell_type": "markdown",
   "metadata": {},
   "source": [
    "## Comencemos! \n",
    "# 2 Ejecutando código\n",
    "## 2.1 <i class=\"fa fa-code\"></i> Ejecutando código"
   ]
  },
  {
   "cell_type": "markdown",
   "metadata": {},
   "source": [
    "En estos cuadernos interactivos, el código se escribe en \"celdas\" (\"cells\", en inglés). \n",
    "\n",
    "Ejecuta el código de una celda con las teclas `Shift-Enter` o presionando el botón <button class='btn btn-default btn-xs'><i class=\"icon-play fa fa-play\"></i></button> en la barra de herramientas de arriba: "
   ]
  },
  {
   "cell_type": "code",
   "execution_count": null,
   "metadata": {
    "collapsed": false
   },
   "outputs": [],
   "source": [
    "print(\"Hola Mundo, Hola Cluberos!\")"
   ]
  },
  {
   "cell_type": "markdown",
   "metadata": {},
   "source": [
    "Ejecuta esta otra celda, usando Python como una calculadora. "
   ]
  },
  {
   "cell_type": "code",
   "execution_count": null,
   "metadata": {
    "collapsed": false
   },
   "outputs": [],
   "source": [
    "2+2 "
   ]
  },
  {
   "cell_type": "code",
   "execution_count": null,
   "metadata": {
    "collapsed": true
   },
   "outputs": [],
   "source": [
    "# Cuando escribes el signo \"#\" al comienzo de una línea, se convierte en un comentario\n",
    "# y no se ejecuta como código (Python lo ignora). "
   ]
  },
  {
   "cell_type": "markdown",
   "metadata": {},
   "source": [
    "Para crear una nueva celda, puedes seleccionar \"Insert\" $\\rightarrow$ \"Insert Cell Below\" (o \"Insert Cell Above\") en la barra de herramientas de arriba. \n"
   ]
  },
  {
   "cell_type": "markdown",
   "metadata": {},
   "source": [
    "#### Ejercicio: Crea una nueva celda aqui abajo, e imprime un mensaje (el que tú quieras) usando el comando **print**:"
   ]
  },
  {
   "cell_type": "markdown",
   "metadata": {},
   "source": [
    "#### Ejercicio: Crea una nueva celda aqui abajo, y evalúa el producto 8 * 5:"
   ]
  },
  {
   "cell_type": "markdown",
   "metadata": {},
   "source": [
    "## 2.2 Guardando datos en variables:\n",
    "El \"kernel\" mantiene el \"estado\" de los cálculos hechos en un cuaderno. Por ejemplo, puedes guardar en una \"variable\" algún valor o el resultado de un cálculo. Puedes ponerle el nombre que se te antoje a tus variables. \n"
   ]
  },
  {
   "cell_type": "code",
   "execution_count": null,
   "metadata": {
    "collapsed": false
   },
   "outputs": [],
   "source": [
    "mi_variable_1 = \"Cuanto es 2 x 4 ?\"\n",
    "chango_loco = 2 * 4"
   ]
  },
  {
   "cell_type": "markdown",
   "metadata": {},
   "source": [
    "y utilizarlas en otra celda de código:"
   ]
  },
  {
   "cell_type": "code",
   "execution_count": null,
   "metadata": {
    "collapsed": false
   },
   "outputs": [],
   "source": [
    "print(mi_variable_1)\n",
    "print(chango_loco)\n",
    "print(\"Wow, Magia!\")"
   ]
  },
  {
   "cell_type": "markdown",
   "metadata": {},
   "source": [
    "#### Ejercicio (4 líneas de código): Crea una nueva celda aqui abajo, y guarda en una variable llamada \"mi_numero_1\" el número 5 y en otra variable, \"mi_numero_2\", el número 300.  Multiplica las dos variables, y asigna el resultado a una nueva variable, \"mi_numero_3\". Imprime el valor de esta última variable. \n",
    "\n"
   ]
  },
  {
   "cell_type": "markdown",
   "metadata": {},
   "source": [
    "## 2.3 Interrumpir código\n",
    "El código se ejecuta en una cosa que se llama el \"IPython Kernel\". Siempre que el circulito de la esquina de hasta arriba a la derecha este relleno (negro), quiere decir que el Kernel está ejecutando código (\"está pensando\"). \n",
    "\n",
    "El Kernel se puede interrumpir o re-iniciar. Intenta correr la siguiente celda y luego presiona el botón <button class='btn btn-default btn-xs'><i class='icon-stop fa fa-stop'></i></button> en la barra de herramientas de arriba. "
   ]
  },
  {
   "cell_type": "code",
   "execution_count": null,
   "metadata": {
    "collapsed": false
   },
   "outputs": [],
   "source": [
    "import time\n",
    "time.sleep(10) #este comando hace que Python cuente hasta 10 segundos "
   ]
  },
  {
   "cell_type": "markdown",
   "metadata": {},
   "source": [
    "## 2.4 Reiniciar el Kernel\n",
    "\n",
    "También puedes reiniciar el Kernel completo. Esto se hace picándole al botón <button class='btn btn-default btn-xs'><i class='fa fa-repeat icon-repeat'></i></button> en la barra de herramientas de arriba. Cuando reinicias el Kernel, se pierden los valores de todas las variables que definiste en las celdas de tu cuaderno. Si reinicias el Kernel, debes volver a ejecutar todas las celdas de tu cuaderno."
   ]
  },
  {
   "cell_type": "markdown",
   "metadata": {},
   "source": [
    "# 3 Python Básico 1.\n",
    "\n",
    "## 3.1 Importar módulos: \n",
    "\n",
    "Los módulos de python son colecciones o librerías de funciones que podemos importar a nuestro código para utilizarlas. Piénsalos como unas cajas de herramientas que puedes abrir para utilizar en tu código. \n",
    "\n",
    "Vamos a importar algunos módulos para manipulación de imágenes, arreglos, y otras funciones.\n",
    "\n",
    "La manera más sencilla de importar una librería completa es así:\n",
    "\n"
   ]
  },
  {
   "cell_type": "code",
   "execution_count": null,
   "metadata": {
    "collapsed": false
   },
   "outputs": [],
   "source": [
    "import imageio #la libreria \"imageio\" se usa para manipulacion de imagenes\n",
    "import os # la libreria \"os\" se usa para interactuar con el sistema operativo. \n",
    "\n",
    "#este comando de abajo es solo para que las graficas se vean dentro del cuaderno.\n",
    "%pylab inline "
   ]
  },
  {
   "cell_type": "markdown",
   "metadata": {},
   "source": [
    "O podemos importar la librería y darle el nombre que queramos dentro de nuestro cuaderno: "
   ]
  },
  {
   "cell_type": "code",
   "execution_count": null,
   "metadata": {
    "collapsed": true
   },
   "outputs": [],
   "source": [
    "import numpy as np # importamos la la librería de métodos numéricos, y la llamamos \"np\"\n",
    "import matplotlib.pyplot as plt #una librería para graficar, ahora se llama \"plt\" en nuestro cuaderno\n",
    "import matplotlib.image as mpimg #otra librería para manipular imagenes."
   ]
  },
  {
   "cell_type": "markdown",
   "metadata": {},
   "source": [
    "Una vez que importas un módulo, puedes comenzar a utilizarlo en tu código.\n",
    "\n",
    "Por ejemplo, utilizemos la función \"zeros\" dentro de el módulo \"numpy\" (\"np\") para crear arreglos de ceros de distintas dimensiones, asignarlos a variables, e imprimirlos. \n",
    "\n",
    "(Más adelante aprenderemos mucho más sobre arreglos)"
   ]
  },
  {
   "cell_type": "code",
   "execution_count": null,
   "metadata": {
    "collapsed": false
   },
   "outputs": [],
   "source": [
    "# usamos la función zeros para crear \n",
    "# un arreglo de ceros de longitud 5\n",
    "mi_arreglo_1 = np.zeros(5) \n",
    "print(mi_arreglo_1)"
   ]
  },
  {
   "cell_type": "code",
   "execution_count": null,
   "metadata": {
    "collapsed": false
   },
   "outputs": [],
   "source": [
    "# usamos la función zeros para crear \n",
    "# un arreglo de dos dimensiones lleno de ceros \n",
    "# de tamaño 5 x 2 (5 renglones, 2 columnas)\n",
    "mi_arreglo_2 = np.zeros((5,2))\n",
    "print(mi_arreglo_2)"
   ]
  },
  {
   "cell_type": "markdown",
   "metadata": {},
   "source": [
    "#### Ejercicio  (dos líneas de código): utiliza la función \"ones\" de numpy para crear una arreglo de unos ([1, 1, 1, ...]) de dos dimensiones de tamaño 10 renglones y 3 columnas.  Asígnalo a una variable (usa el nombre que tú quieras) e imprime el resultado. "
   ]
  },
  {
   "cell_type": "code",
   "execution_count": null,
   "metadata": {
    "collapsed": false
   },
   "outputs": [],
   "source": []
  },
  {
   "cell_type": "markdown",
   "metadata": {},
   "source": [
    "## 3.2 Cargar y mostrar una imagén: \n",
    "\n",
    "Ahora, vamos a usar el módulo matplotlib.image (llamado \"mpimg\" en nuestro código) para leer una imagen en formato \".png\". \n",
    "\n",
    "También usaremos el módulo matplotlib.pyplot (llamado \"plt\" en nuestro código) para mostrarla dentro del cuaderno. "
   ]
  },
  {
   "cell_type": "code",
   "execution_count": null,
   "metadata": {
    "collapsed": false
   },
   "outputs": [],
   "source": [
    "#leemos la imagen que está guardada en el archivo \"color_wheel.png\"\n",
    "# Para esto usamos la función \"imread\" del módulo matplotlib.image (\"mpimg\")\n",
    "img=mpimg.imread('color_wheel.png')\n",
    "\n",
    "\n",
    "# mostramos la imagen que guardamos en la variable \"img\"\n",
    "# Para esto usamos la función \"imshow\", del módulo matplotlib.pyplot (\"plt\")\n",
    "plt.imshow(img)"
   ]
  },
  {
   "cell_type": "markdown",
   "metadata": {},
   "source": [
    "Vamos a investigar cómo se representa una imagen en Python. \n",
    "\n",
    "Vamos a imprimir la variable \"img\", en donde guardamos la imagen que leímos del archivo "
   ]
  },
  {
   "cell_type": "code",
   "execution_count": null,
   "metadata": {
    "collapsed": false,
    "scrolled": true
   },
   "outputs": [],
   "source": [
    "print(img)"
   ]
  },
  {
   "cell_type": "markdown",
   "metadata": {},
   "source": [
    "Como puedes ver, una imagen no es más que un arreglo de muchos números (en este caso, entre 0 y 1). \n",
    "\n",
    "Por esta razón, como queremos volvernos expertos en manipular archivos de imagenes en Python, tenemos que aprender más sobre las propiedades de los arreglos y cómo manipularlos.  "
   ]
  },
  {
   "cell_type": "markdown",
   "metadata": {},
   "source": [
    "## 3.3 Numpy:  Trabajando con arreglos\n",
    "\n",
    "Como ya viste, para crear y manipular arreglos, podemos usar el módulo Numpy, el cual ya importamos a nuestro cuaderno (con el nombre \"np\") algunas celdas arriba (¿quieres saber más sobre el módulo numpy? Haz click en la imagen abajo)\n",
    "\n",
    "[![](http://upload.wikimedia.org/wikipedia/en/1/1b/NumPy_logo.png)](http://www.numpy.org/)\n"
   ]
  },
  {
   "cell_type": "markdown",
   "metadata": {},
   "source": [
    "Una función que es muy util dentro de Numpy es \"arange\", la cual nos permite crear una lista de números en el rango e incremento que nosotros queramos: "
   ]
  },
  {
   "cell_type": "code",
   "execution_count": null,
   "metadata": {
    "collapsed": false
   },
   "outputs": [],
   "source": [
    "#para crear una lista de números del 0 al 10 en incrementos de 1, hacemos:  \n",
    "numeros = np.arange(0,11,1)         \n",
    "print(numeros)"
   ]
  },
  {
   "cell_type": "markdown",
   "metadata": {},
   "source": [
    "Para crear un arreglo de números que empieza en 10, acaba en 100, y va en intervalos de 5, harías lo siguiente: "
   ]
  },
  {
   "cell_type": "code",
   "execution_count": null,
   "metadata": {
    "collapsed": false
   },
   "outputs": [],
   "source": [
    "numeros = np.arange(10,105,5)         \n",
    "print(numeros)"
   ]
  },
  {
   "cell_type": "markdown",
   "metadata": {},
   "source": [
    "Nota que, al volver a definir la variable \"numeros\", ésta quedo reemplazada con el nuevo arreglo de datos, y se borró su valor anterior. "
   ]
  },
  {
   "cell_type": "markdown",
   "metadata": {},
   "source": [
    "#### Ejercicio (dos líneas de código): crea una lista de números del 2 al 24, en intervalos de 2. Guárdala en una variable con el nombre que quieras, e imprímela:"
   ]
  },
  {
   "cell_type": "code",
   "execution_count": null,
   "metadata": {
    "collapsed": false
   },
   "outputs": [],
   "source": []
  },
  {
   "cell_type": "markdown",
   "metadata": {},
   "source": [
    "Como vimos antes, usando la función \"zeros\", podemos crear arreglos de puros 0´s de la dimensión y tamaño que querramos."
   ]
  },
  {
   "cell_type": "markdown",
   "metadata": {},
   "source": [
    "### 1 Dimension:"
   ]
  },
  {
   "cell_type": "markdown",
   "metadata": {},
   "source": [
    "Un arreglo de 1 dimension lo puedes pensar como una lista de números: \n"
   ]
  },
  {
   "cell_type": "code",
   "execution_count": null,
   "metadata": {
    "collapsed": false
   },
   "outputs": [],
   "source": [
    "# 1 dimension\n",
    "vacio_1D = np.zeros(6)\n",
    "print(vacio_1D)"
   ]
  },
  {
   "cell_type": "markdown",
   "metadata": {},
   "source": [
    "Puedes llenar el valor de un elemento del arreglo usando su \"índice\"\n",
    "\n",
    "**Algo muy importante es que en Python siempre se empieza a contar desde 0:**"
   ]
  },
  {
   "cell_type": "code",
   "execution_count": null,
   "metadata": {
    "collapsed": false
   },
   "outputs": [],
   "source": [
    "vacio_1D[0] = 5 #el elemento 0 es el primer elemento. \n",
    "print(vacio_1D)\n",
    "\n",
    "vacio_1D[2] = 8 #el elemento 2 es el tercer elemento. \n",
    "print(vacio_1D)"
   ]
  },
  {
   "cell_type": "markdown",
   "metadata": {},
   "source": [
    "Puedes hacer un arreglo de 1-Dimensión que vaya del 0 al 10, en incrementos de 1, con el comando \"arange\" de numpy: "
   ]
  },
  {
   "cell_type": "code",
   "execution_count": null,
   "metadata": {
    "collapsed": false
   },
   "outputs": [],
   "source": [
    "mi_arreglo = np.arange(0,10,1)\n",
    "print(mi_arreglo)"
   ]
  },
  {
   "cell_type": "markdown",
   "metadata": {},
   "source": [
    "Y del 20 al 40, en intervalos de 2, sería asi: "
   ]
  },
  {
   "cell_type": "code",
   "execution_count": null,
   "metadata": {
    "collapsed": false
   },
   "outputs": [],
   "source": [
    "mi_arreglo = np.arange(20, 42, 2)\n",
    "print(mi_arreglo)"
   ]
  },
  {
   "cell_type": "markdown",
   "metadata": {},
   "source": [
    "#### Ejercicio: Genera un arreglo de 1-Dimensión que vaya del 10 al 100, en intervalos de 5. Guárdalo en una variable (escoje el nombre que quieras), e imprímela: "
   ]
  },
  {
   "cell_type": "code",
   "execution_count": null,
   "metadata": {
    "collapsed": false
   },
   "outputs": [],
   "source": []
  },
  {
   "cell_type": "markdown",
   "metadata": {},
   "source": [
    "#### Ejercicio: sustituye el primer elemento de tu arreglo con el número 500, imprime el nuevo arreglo"
   ]
  },
  {
   "cell_type": "code",
   "execution_count": null,
   "metadata": {
    "collapsed": false
   },
   "outputs": [],
   "source": []
  },
  {
   "cell_type": "markdown",
   "metadata": {},
   "source": [
    "### 2 Dimensiones: "
   ]
  },
  {
   "cell_type": "markdown",
   "metadata": {},
   "source": [
    "Un arreglo de dos dimensiones (M x N) lo puedes ver como una matriz, con M renglones y N columnas. "
   ]
  },
  {
   "cell_type": "code",
   "execution_count": null,
   "metadata": {
    "collapsed": false
   },
   "outputs": [],
   "source": [
    "# 2 dimensiones\n",
    "vacio_2D = np.zeros((4, 3)) #4 renglones, 3 columnas, llena de 0's\n",
    "print(vacio_2D)"
   ]
  },
  {
   "cell_type": "markdown",
   "metadata": {},
   "source": [
    "Puedes llenar o accesar elementos individules usando parejas de índices: (renglón, columna)"
   ]
  },
  {
   "cell_type": "code",
   "execution_count": null,
   "metadata": {
    "collapsed": false
   },
   "outputs": [],
   "source": [
    "vacio_2D[0,0] = 10\n",
    "vacio_2D[1,1] = 15\n",
    "print(vacio_2D)"
   ]
  },
  {
   "cell_type": "markdown",
   "metadata": {},
   "source": [
    "También puedes llenar un renglón o una columna entera con un arreglo, de la siguiente manera: "
   ]
  },
  {
   "cell_type": "code",
   "execution_count": null,
   "metadata": {
    "collapsed": false
   },
   "outputs": [],
   "source": [
    "# la notación [0,:] quiere decir \"el renglón 0 y todas las columnas\"\n",
    "vacio_2D[0,:] = np.ones(3)  # estamos llenando el primer renglón con un arreglo de 1´s\n",
    "vacio_2D[3,:] = 100*np.ones(3)  # estamos llenando el ultimo renglón con un arreglo de 100´s\n",
    "\n",
    "print(vacio_2D)\n"
   ]
  },
  {
   "cell_type": "markdown",
   "metadata": {},
   "source": [
    "Para imprimir solo un renglón, o solo una columna, harías: "
   ]
  },
  {
   "cell_type": "code",
   "execution_count": null,
   "metadata": {
    "collapsed": false
   },
   "outputs": [],
   "source": [
    "print('El primer renglon:')\n",
    "print(vacio_2D[0,:]) \n",
    "\n",
    "print('La primera columna:')\n",
    "print(vacio_2D[:,0])\n"
   ]
  },
  {
   "cell_type": "markdown",
   "metadata": {},
   "source": [
    "#### Ejercicio: Crea un arreglo de ceros de 2-Dimensiones de 5 X 5. Llena la primera **columna** con puros 35. Imprime el arreglo:"
   ]
  },
  {
   "cell_type": "code",
   "execution_count": null,
   "metadata": {
    "collapsed": false
   },
   "outputs": [],
   "source": []
  },
  {
   "cell_type": "markdown",
   "metadata": {},
   "source": [
    "### 3 Dimensiones:"
   ]
  },
  {
   "cell_type": "markdown",
   "metadata": {},
   "source": [
    "Un arreglo de 3-dimensiones (M x N x P) lo puedes pensar como un \"cubo\" de datos, o como \"P\" matrices de M x N (M renglones y N columnas). \n",
    "\n",
    "Veremos que los archivos de imagenes son arreglos de 3 dimensiones, con una matriz para cada canal de color (Rojo, Verde, y Azul, o RGB)"
   ]
  },
  {
   "cell_type": "code",
   "execution_count": null,
   "metadata": {
    "collapsed": false
   },
   "outputs": [],
   "source": [
    "# 3 dimensiones\n",
    "vacio_3D = np.zeros((2, 4, 3)) "
   ]
  },
  {
   "cell_type": "markdown",
   "metadata": {},
   "source": [
    "Piensa el arreglo de arriba, \"vacio_3D\", como 3 matrices de 2 X 4 (2 renglones, 4 columnas), una detrás (o encima) de la otra. \n",
    "\n",
    "Podemos llenar una de las matrices de 2 X 4 entera a la vez, de la siguiente manera **(OJO: esto va a ser MUY util cuando estemos trabajando con imágenes). **"
   ]
  },
  {
   "cell_type": "code",
   "execution_count": null,
   "metadata": {
    "collapsed": false
   },
   "outputs": [],
   "source": [
    "vacio_3D[:,:,0] = np.ones((2,4)) #una matriz de 1's, con dos renglones, cuatro columnas \n",
    "\n",
    "print(\"Este es la 'primera' matriz de nuestro arreglo 3D\")\n",
    "print(vacio_3D[:,:,0]) #Todas los renglones, todas las columnas de la \"primera\" matriz\n",
    "\n",
    "print(\"Este es la 'segunda' matriz de nuestro arreglo 3D\")\n",
    "print(vacio_3D[:,:,1]) #Todas los renglones, todas las columnas de la \"segunda\" matriz"
   ]
  },
  {
   "cell_type": "markdown",
   "metadata": {},
   "source": [
    "Y para averiguar las dimensiones de un arreglo, usamos nombre_arreglo.shape "
   ]
  },
  {
   "cell_type": "code",
   "execution_count": null,
   "metadata": {
    "collapsed": false
   },
   "outputs": [],
   "source": [
    "print(\"Las dimensiones de nuestro arreglo 3D son:\")\n",
    "print(vacio_3D.shape)\n",
    "\n",
    "dim_1 = vacio_3D.shape[0] #recuerda que python cuenta desde cero\n",
    "dim_2 = vacio_3D.shape[1]\n",
    "dim_3 = vacio_3D.shape[2]\n",
    "print(dim_1)\n",
    "print(dim_2)\n",
    "print(dim_3)"
   ]
  },
  {
   "cell_type": "markdown",
   "metadata": {},
   "source": [
    "#### Ejercicio: Crea un arreglo de 3-Dimensiones, con dimensiones 4 x 5 x 3, lleno de ceros. Llena la primera matriz - coordenadas [: , : ,0] - con puros 1's, y la tercera matriz con puros números 4´s.  Imprime el arreglo, una matriz a la vez. "
   ]
  },
  {
   "cell_type": "code",
   "execution_count": null,
   "metadata": {
    "collapsed": false
   },
   "outputs": [],
   "source": []
  },
  {
   "cell_type": "markdown",
   "metadata": {},
   "source": [
    "Finalmente, podemos tomar cualquier arreglo y \"re-arreglarlo\" como otro de menor o mayor dimensión. Para hacer esto, utilizamos la función \"reshape\"\n",
    "\n",
    "Por ejemplo, podemos tomar una matriz de 2 x 3, y re-arreglarlo como un arreglo 1-D con 6 elementos. "
   ]
  },
  {
   "cell_type": "code",
   "execution_count": null,
   "metadata": {
    "collapsed": false
   },
   "outputs": [],
   "source": [
    "matriz_1 = np.ones((2,3))\n",
    "print('Esta es la matriz de 2 por 3')\n",
    "print (matriz_1)\n",
    "\n",
    "arreglo_1 = np.reshape(matriz_1, 6)\n",
    "print('Esta es el arreglo con 6 elementos')\n",
    "print (arreglo_1)\n"
   ]
  },
  {
   "cell_type": "markdown",
   "metadata": {},
   "source": [
    "Regresemos ahora al ejemplo de nuestra imagen:\n",
    "\n",
    "\n",
    "\n",
    "# 4 Entendiendo la estructura de imágenes en Python"
   ]
  },
  {
   "cell_type": "markdown",
   "metadata": {},
   "source": [
    "Vamos a repasar cómo leer una imagen y mostrarla: "
   ]
  },
  {
   "cell_type": "code",
   "execution_count": null,
   "metadata": {
    "collapsed": false
   },
   "outputs": [],
   "source": [
    "img=mpimg.imread('color_wheel.png')\n",
    "plt.imshow(img)"
   ]
  },
  {
   "cell_type": "markdown",
   "metadata": {},
   "source": [
    "Ahora que sabes cómo manipular arreglos, vamos a ver qué dimensiones tiene la imagen: "
   ]
  },
  {
   "cell_type": "markdown",
   "metadata": {},
   "source": [
    "#### Ejercicio: imprime las dimensiones de la imagen \"img\""
   ]
  },
  {
   "cell_type": "code",
   "execution_count": null,
   "metadata": {
    "collapsed": false
   },
   "outputs": [],
   "source": []
  },
  {
   "cell_type": "markdown",
   "metadata": {},
   "source": [
    "#### Pregunta: si podemos pensar en los arreglos 3-D como varias matrices (2-D).. cuántas matrices hay en nuestra imagen? "
   ]
  },
  {
   "cell_type": "code",
   "execution_count": null,
   "metadata": {
    "collapsed": true
   },
   "outputs": [],
   "source": []
  },
  {
   "cell_type": "markdown",
   "metadata": {},
   "source": [
    "## 4.1 Canales"
   ]
  },
  {
   "cell_type": "markdown",
   "metadata": {},
   "source": [
    "Las imágenes digitales tienen, en generale, tres canales, Rojo (R), Verde (G) y Azul (B). La primer matriz de nuestra imagen es la R, la segunda la G, y la tercera la B:"
   ]
  },
  {
   "cell_type": "code",
   "execution_count": null,
   "metadata": {
    "collapsed": true
   },
   "outputs": [],
   "source": [
    "canal_rojo = img[:,:,0]\n",
    "canal_verde = img[:,:,1]\n",
    "canal_azul = img[:,:,2]"
   ]
  },
  {
   "cell_type": "markdown",
   "metadata": {},
   "source": [
    "Qué es el cuarto canal/matriz? Se llama el canal \"alpha\" y controla la \"transparencia\" de una imagen. Lo vamos a ignorar por ahora. "
   ]
  },
  {
   "cell_type": "code",
   "execution_count": null,
   "metadata": {
    "collapsed": true
   },
   "outputs": [],
   "source": [
    "canal_alpha = img[:,:,3]"
   ]
  },
  {
   "cell_type": "markdown",
   "metadata": {},
   "source": [
    "Si queremos ver solo el canal rojo de la imagen, necesitamos tomar ese canal pero fijar el resto de los canales (verde y azul) en ceros. "
   ]
  },
  {
   "cell_type": "code",
   "execution_count": null,
   "metadata": {
    "collapsed": false
   },
   "outputs": [],
   "source": [
    "# Hacemos un arreglo con las mismas dimensiones que la imagen:\n",
    "img_rojo = np.zeros((730, 730, 4))\n",
    "\n",
    "# Vamos a llenar el canal rojo de img_rojo con el canal rojo de img\n",
    "img_rojo[:,:,0] = canal_rojo\n",
    "\n",
    "# y vamos a fijar el canal alpha con el mismo valor que la img. \n",
    "img_rojo[:,:,3] = canal_alpha\n",
    "\n",
    "plt.imshow(img_rojo)"
   ]
  },
  {
   "cell_type": "markdown",
   "metadata": {},
   "source": [
    "#### Ejercicio: Es tu turno, haz lo mismo que hicimos arriba con el canal rojo, pero ahora con el canal verde: \n"
   ]
  },
  {
   "cell_type": "code",
   "execution_count": null,
   "metadata": {
    "collapsed": false
   },
   "outputs": [],
   "source": []
  },
  {
   "cell_type": "markdown",
   "metadata": {},
   "source": [
    "#### Y ahora con el canal azul:"
   ]
  },
  {
   "cell_type": "code",
   "execution_count": null,
   "metadata": {
    "collapsed": false
   },
   "outputs": [],
   "source": []
  },
  {
   "cell_type": "markdown",
   "metadata": {},
   "source": [
    "Regresemos a cosas básicas en Python\n",
    "\n",
    "# 5 Python Basico\n"
   ]
  },
  {
   "cell_type": "markdown",
   "metadata": {},
   "source": [
    "## 5.1 For loops\n",
    "\n",
    "Un \"for loop\" va sobre cada uno de los elementos de un arreglo. \n",
    "\n",
    "Es muy importante notar que tienes que **indentar** lo que va adentro del for loop. \n",
    "\n",
    "Por ejemplo, vamos a imprimir todos los elementos de un arreglo 1-D: \n"
   ]
  },
  {
   "cell_type": "code",
   "execution_count": null,
   "metadata": {
    "collapsed": false
   },
   "outputs": [],
   "source": [
    "mi_arreglo = np.arange(5, 35, 5)\n",
    "\n",
    "print(\"asi imprimimos el arreglo completo\")\n",
    "print(mi_arreglo)\n",
    "\n",
    "print('\\nAhora imprimimos un elemento a la vez:')\n",
    "\n",
    "#ahi va el \"for loop\"\n",
    "for elemento in mi_arreglo:\n",
    "    print(elemento)"
   ]
  },
  {
   "cell_type": "markdown",
   "metadata": {},
   "source": [
    "Otra forma de hacer lo mismo es esta (esta nos va a ser muy util). Usamos la funcion \"range\" para iterar sobre los **indices** del arreglo:"
   ]
  },
  {
   "cell_type": "code",
   "execution_count": null,
   "metadata": {
    "collapsed": false
   },
   "outputs": [],
   "source": [
    "longitud = mi_arreglo.shape[0]\n",
    "print('La longitud del arreglo es:')\n",
    "print(longitud)\n",
    "print('La funcion range(longitud) nos da los indices que \\\n",
    "podemos usar para accesar los elementos del arreglo')\n",
    "print range(longitud)"
   ]
  },
  {
   "cell_type": "code",
   "execution_count": null,
   "metadata": {
    "collapsed": false
   },
   "outputs": [],
   "source": [
    "for indice in range(longitud): #iteramos a sobre los indices\n",
    "    print(mi_arreglo[indice]) # y usamos los indices para accesar los elementos del arreglo"
   ]
  },
  {
   "cell_type": "markdown",
   "metadata": {},
   "source": [
    "Si estamos trabajando con un arreglo de dos dimensiones, podemos hacer un \"for loop\" doble usando range:"
   ]
  },
  {
   "cell_type": "code",
   "execution_count": null,
   "metadata": {
    "collapsed": false
   },
   "outputs": [],
   "source": [
    "#primero voy a crear una matriz de 4 por 5\n",
    "mi_matriz = np.zeros((4,5))\n",
    "mi_matriz[:,0] = np.ones(4)\n",
    "mi_matriz[:,2] = 3*np.ones(4)\n",
    "mi_matriz[:,4] = 10*np.ones(4)\n",
    "print mi_matriz\n"
   ]
  },
  {
   "cell_type": "markdown",
   "metadata": {},
   "source": [
    "Ahora va el doble \"for loop\""
   ]
  },
  {
   "cell_type": "code",
   "execution_count": null,
   "metadata": {
    "collapsed": false
   },
   "outputs": [],
   "source": [
    "# Trata de entender lo que está sucediendo en estas líneas de código:\n",
    "dim_1 = mi_matriz.shape[0] #el numero de renglones\n",
    "dim_2 = mi_matriz.shape[1] #el numero de columnas\n",
    "for indice_1 in range(dim_1): # iteramos sobre los indices de los renglones\n",
    "    print('este es el renglon', indice_1)\n",
    "    for indice_2 in range(dim_2): # y, dentro de cada renglon, iteramos sobre las columnas\n",
    "        print(mi_matriz[indice_1, indice_2]) #y accesamos cada elemento de la matriz"
   ]
  },
  {
   "cell_type": "markdown",
   "metadata": {},
   "source": [
    "## 5.2 \"if\"  - condiciones\n",
    "\n",
    "Las \"sentencias condicionales\" (conditional statements en inglés), nos ayudan a tomar decisiones de si el programa va a tomar una acción o no. \n",
    "\n",
    "Se usan para pedirle al código que \"si tal cosa es cierta o se satisface, entonces haga tal cosa\". \n",
    "\n"
   ]
  },
  {
   "cell_type": "code",
   "execution_count": null,
   "metadata": {
    "collapsed": false
   },
   "outputs": [],
   "source": [
    "# Va un ejemplo sencillo con un arreglo de una dimensión. \n",
    "mi_arreglo = np.arange(0,20,2)\n",
    "print(mi_arreglo)"
   ]
  },
  {
   "cell_type": "markdown",
   "metadata": {},
   "source": [
    "Usaremos un \"if statement\" para imprimir solo los valores del arreglo mayores a 10"
   ]
  },
  {
   "cell_type": "code",
   "execution_count": null,
   "metadata": {
    "collapsed": false
   },
   "outputs": [],
   "source": [
    "for ind in range(len(mi_arreglo)): #iteramos sobre los indices\n",
    "    if mi_arreglo[ind] > 10: #asi se usan los \"if statements\"\n",
    "        print mi_arreglo[ind]"
   ]
  },
  {
   "cell_type": "markdown",
   "metadata": {},
   "source": [
    "Podemos combinar los dobles \"for loops\" (con matrices de 2-D) y un \"if statement\" para cambiar de color todos los pixeles que satisfagan cierta condición: "
   ]
  },
  {
   "cell_type": "markdown",
   "metadata": {},
   "source": [
    "Por ejemplo, vamos a tomar nuestra imagen de colores, y cambiar a color negro todos los pixeles cuyo valor en el canal rojo sea mayor al número 0.99"
   ]
  },
  {
   "cell_type": "code",
   "execution_count": null,
   "metadata": {
    "collapsed": true
   },
   "outputs": [],
   "source": [
    "#primero tomamos el canal rojo de la imagen img\n",
    "canal_rojo = img[:,:,0]\n",
    "# y hacemos una copia de la imagen, la cual vamos a manipular. \n",
    "img_copy = copy(img)"
   ]
  },
  {
   "cell_type": "markdown",
   "metadata": {},
   "source": [
    "Y aqui usamos lo que aprendimos del doble for loop para iterar sobre cada [renglon,columna]"
   ]
  },
  {
   "cell_type": "code",
   "execution_count": null,
   "metadata": {
    "collapsed": false
   },
   "outputs": [],
   "source": [
    "dim1 = img.shape[0]\n",
    "dim2 = img.shape[1]\n",
    "for ind1 in range(dim1): # iteramos sobre los indices de los renglones\n",
    "    for ind2 in range(dim2): # y, dentro de cada renglon, iteramos sobre las columnas\n",
    "        if canal_rojo[ind1, ind2] > 0.99: #si el pixel satisface la condicion, \n",
    "            img_copy[ind1, ind2, 0] = 0 #Lo cambiamos al color negro (R=G=B=0)\n",
    "            img_copy[ind1, ind2, 1] = 0\n",
    "            img_copy[ind1, ind2, 2] = 0"
   ]
  },
  {
   "cell_type": "markdown",
   "metadata": {},
   "source": [
    "Notaste la indentación después del \"if\"? ( y los dos puntos, : )"
   ]
  },
  {
   "cell_type": "code",
   "execution_count": null,
   "metadata": {
    "collapsed": false
   },
   "outputs": [],
   "source": [
    "#Aqui mostramos la imagen original\n",
    "plt.imshow(img)"
   ]
  },
  {
   "cell_type": "code",
   "execution_count": null,
   "metadata": {
    "collapsed": false
   },
   "outputs": [],
   "source": [
    "#Aqui mostramos la imagen modificada. Observa que el parte del \n",
    "# amarillo/naranja tambien satisface la condicion! \n",
    "plt.imshow(img_copy)"
   ]
  },
  {
   "cell_type": "markdown",
   "metadata": {},
   "source": [
    "#### Ejercicio: Ahora, escribe líneas de código para cambiar todos los pixeles que tengan un valor en el canal azul mayor que 0.8 al color blanco:\n",
    "\n",
    "Recuerda que tienes que primero hacer una copia de la imagen original , img"
   ]
  },
  {
   "cell_type": "code",
   "execution_count": null,
   "metadata": {
    "collapsed": true
   },
   "outputs": [],
   "source": []
  },
  {
   "cell_type": "code",
   "execution_count": null,
   "metadata": {
    "collapsed": false
   },
   "outputs": [],
   "source": []
  },
  {
   "cell_type": "markdown",
   "metadata": {},
   "source": [
    "##  5.3 Funciones: \n",
    "\n",
    "Las funciones son secciones de un programa que puedes crear para que hagan cierta tarea. Cada función recibe una entrada (input) y regresa una salida (output). Pero también puede ser una rutina que \"hace\" algo sin regresar nada. Van unos ejemplos:"
   ]
  },
  {
   "cell_type": "code",
   "execution_count": null,
   "metadata": {
    "collapsed": true
   },
   "outputs": [],
   "source": [
    "#Esta funcion te permite visualizar imagenes de manera mas \"bonita\"\n",
    "def visualizar_imagen(imagen):\n",
    "    fig = plt.figure(figsize=(7,7))\n",
    "    ax = fig.add_subplot(111)\n",
    "    ax.imshow(imagen, interpolation=\"gaussian\")\n",
    "    ax.set_axis_bgcolor('k')\n",
    "    ax.get_xaxis().set_visible(False)\n",
    "    ax.get_yaxis().set_visible(False)"
   ]
  },
  {
   "cell_type": "code",
   "execution_count": null,
   "metadata": {
    "collapsed": false
   },
   "outputs": [],
   "source": [
    "#Ya que definimos la funcion en la celda de arriba (si la ejecutaste), podemos usarla!\n",
    "visualizar_imagen(img)"
   ]
  },
  {
   "cell_type": "markdown",
   "metadata": {},
   "source": [
    "Va otro ejemplo:\n",
    "Esta funcion te permite sacar el \"histograma\" de los valores de los pixeles de una imagen. \n",
    "Si no sabes lo que es un histograma, pidele a tu instructor que te explique!"
   ]
  },
  {
   "cell_type": "code",
   "execution_count": null,
   "metadata": {
    "collapsed": true
   },
   "outputs": [],
   "source": [
    "def histograma_imagen(imagen):\n",
    "    tamano = 1\n",
    "    for s in imagen.shape:\n",
    "        tamano *= s\n",
    "    img_vec = np.reshape(imagen, tamano)\n",
    "    fig = plt.figure(figsize=(6,4))\n",
    "    ax = fig.add_subplot(111)\n",
    "    hist = plt.hist(img_vec, 50)\n",
    "    plt.xlabel('Valores pixeles', fontsize = 20)\n",
    "    plt.ylabel('Numero de pixeles con ese valor', fontsize = 18)"
   ]
  },
  {
   "cell_type": "code",
   "execution_count": null,
   "metadata": {
    "collapsed": false
   },
   "outputs": [],
   "source": [
    "# Ya que la definiste, ahora la puedes utilizar!\n",
    "histograma_imagen(img) #le pasamos como entrada nuestra imagen, img"
   ]
  },
  {
   "cell_type": "markdown",
   "metadata": {},
   "source": [
    "## <i class=\"fa fa-book\"></i> Extra: Recursos adicionales\n"
   ]
  },
  {
   "cell_type": "markdown",
   "metadata": {},
   "source": [
    "### Installing Ipython on your computer:\n",
    "* http://nbviewer.ipython.org/github/demotu/BMC/blob/master/notebooks/PythonInstallation.ipynb\n",
    " \n",
    "### Squeezing all the juice from Ipython\n",
    "* https://github.com/odewahn/ipynb-examples\n",
    "* Ipython minibook: https://github.com/rossant/ipython-minibook http://nbviewer.ipython.org/github/barbagroup/AeroPython/blob/master/lessons/00_Lesson00_QuickPythonIntro.ipynb\n",
    " \n",
    "### Scientific computing con Python:\n",
    "* http://nbviewer.ipython.org/github/demotu/BMC/blob/master/notebooks/PythonForScientificComputing.ipynb\n",
    "* http://nbviewer.ipython.org/github/jrjohansson/scientific-python-lectures/blob/master/Lecture-1-Introduction-to-Python-Programming.ipynb\n",
    "\n",
    "### A gallery of interesting IPython Notebooks\n",
    "* https://github.com/ipython/ipython/wiki/A-gallery-of-interesting-IPython-Notebooks#introductory-tutorials\n"
   ]
  },
  {
   "cell_type": "code",
   "execution_count": null,
   "metadata": {
    "collapsed": true
   },
   "outputs": [],
   "source": []
  }
 ],
 "metadata": {
  "kernelspec": {
   "display_name": "Python 3",
   "language": "python",
   "name": "python3"
  },
  "language_info": {
   "codemirror_mode": {
    "name": "ipython",
    "version": 3
   },
   "file_extension": ".py",
   "mimetype": "text/x-python",
   "name": "python",
   "nbconvert_exporter": "python",
   "pygments_lexer": "ipython3",
   "version": "3.4.2"
  }
 },
 "nbformat": 4,
 "nbformat_minor": 0
}
